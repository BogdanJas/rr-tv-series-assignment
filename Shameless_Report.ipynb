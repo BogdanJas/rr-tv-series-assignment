{
 "cells": [
  {
   "cell_type": "markdown",
   "id": "4ae8a5de",
   "metadata": {},
   "source": [
    "# **<span style=\"color:#2E86C1\">Shameless (UK TV Series)</span>**"
   ]
  },
  {
   "cell_type": "markdown",
   "id": "39f8dc0b",
   "metadata": {},
   "source": [
    "**_Shameless_** is a **British comedy series** set in **Manchester** on the fictional **Chatsworth council estate**, created and partially written by **Paul Abbott**, who is also the programme's **executive producer**.\n",
    "\n",
    "Produced by **Company Pictures** for **Channel 4**, the series aired from **13 January 2004** to **28 May 2013**."
   ]
  },
  {
   "cell_type": "markdown",
   "id": "21d925d6",
   "metadata": {},
   "source": [
    "## **<span style=\"color:#27AE60\">Overview</span>**"
   ]
  },
  {
   "cell_type": "markdown",
   "id": "8106c72e",
   "metadata": {},
   "source": [
    "\n",
    "The **comedy drama**, centred on **British working class culture**, was accorded **critical acclaim** by various sections of the British media, including:\n",
    "\n",
    "- *The Sun*\n",
    "- *Newsnight Review* on **BBC Two**\n",
    "\n",
    "In **2005**, the show won:\n",
    "- **Best Drama Series** at the *BAFTA TV Awards*\n",
    "- **Best TV Comedy Drama** at the *British Comedy Awards*\n",
    "\n",
    "The network **Showtime** adapted the series into its own **American version**, which debuted in **2011**.\n",
    "\n",
    "During the course of the programme, **<span style=\"color:#E67E22\">139 episodes</span>** of _Shameless_ aired over **<span style=\"color:#AF7AC5\">eleven series</span>**.\n",
    "\n",
    "![Shameless UK](https://m.media-amazon.com/images/M/MV5BYmM0NGVmZmYtODc5NS00Y2JlLTg5ZTAtODczNjllNmY1YjYzXkEyXkFqcGc@._V1_FMjpg_UX1000_.jpg)"
   ]
  }
 ],
 "metadata": {
  "language_info": {
   "name": "python"
  }
 },
 "nbformat": 4,
 "nbformat_minor": 5
}
