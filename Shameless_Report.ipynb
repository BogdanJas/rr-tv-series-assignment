{
 "cells": [
  {
   "cell_type": "markdown",
   "id": "4ae8a5de",
   "metadata": {},
   "source": [
    "# **<span style=\"color:#2E86C1\">Shameless (UK TV Series)</span>**"
   ]
  },
  {
   "cell_type": "markdown",
   "id": "39f8dc0b",
   "metadata": {},
   "source": [
    "**_Shameless_** is a **British comedy series** set in **Manchester** on the fictional **Chatsworth council estate**, created and partially written by **Paul Abbott**, who is also the programme's **executive producer**.\n",
    "\n",
    "Produced by **Company Pictures** for **Channel 4**, the series aired from **13 January 2004** to **28 May 2013**."
   ]
  },
  {
   "cell_type": "markdown",
   "id": "21d925d6",
   "metadata": {},
   "source": [
    "## **<span style=\"color:#27AE60\">Overview</span>**"
   ]
  },
  {
   "cell_type": "markdown",
   "id": "8106c72e",
   "metadata": {},
   "source": [
    "\n",
    "The **comedy drama**, centred on **British working class culture**, was accorded **critical acclaim** by various sections of the British media, including:\n",
    "\n",
    "- *The Sun*\n",
    "- *Newsnight Review* on **BBC Two**\n",
    "\n",
    "In **2005**, the show won:\n",
    "- **Best Drama Series** at the *BAFTA TV Awards*\n",
    "- **Best TV Comedy Drama** at the *British Comedy Awards*\n",
    "\n",
    "The network **Showtime** adapted the series into its own **American version**, which debuted in **2011**.\n",
    "\n",
    "During the course of the programme, **<span style=\"color:#E67E22\">139 episodes</span>** of _Shameless_ aired over **<span style=\"color:#AF7AC5\">eleven series</span>**. \n",
    "\n",
    "Information about each season can be found on IMDB official website via the [link](https://www.imdb.com/title/tt0377260/episodes/?season=11&ref_=ttep_ep_sn_nx)\n",
    "\n",
    "![Shameless UK](https://m.media-amazon.com/images/M/MV5BYmM0NGVmZmYtODc5NS00Y2JlLTg5ZTAtODczNjllNmY1YjYzXkEyXkFqcGc@._V1_FMjpg_UX1000_.jpg)"
   ]
  },
  {
   "cell_type": "code",
   "execution_count": null,
   "id": "c3e572a6",
   "metadata": {},
   "outputs": [],
   "source": [
    "# Create data frame with information about the serial\n",
    "import pandas as pd\n",
    "\n",
    "columns = ['Season', 'Episode', 'Title', 'ReleaseDate', 'Rating', 'Votes']\n",
    "shameless_uk_df = pd.DataFrame(columns=columns)\n",
    "\n",
    "# I decided to provide tha information about each season manually (tried to make it via IMDB API or build scrapper, each option failed).\n",
    "# Information for this data frame was taken from IMDB: \n",
    "def add_episode(season, episode, title, release_date, rating, votes):\n",
    "    global shameless_uk_df\n",
    "    new_row = {\n",
    "        'Season': season,\n",
    "        'Episode': episode,\n",
    "        'Title': title,\n",
    "        'ReleaseDate': pd.to_datetime(release_date),\n",
    "        'Rating': rating,\n",
    "        'Votes': votes\n",
    "    }\n",
    "    shameless_uk_df = pd.concat([shameless_uk_df, pd.DataFrame([new_row])], ignore_index=True)"
   ]
  },
  {
   "cell_type": "code",
   "execution_count": 2,
   "id": "c88b0904",
   "metadata": {},
   "outputs": [
    {
     "name": "stderr",
     "output_type": "stream",
     "text": [
      "C:\\Temp\\ipykernel_14392\\1869226360.py:17: FutureWarning: The behavior of DataFrame concatenation with empty or all-NA entries is deprecated. In a future version, this will no longer exclude empty or all-NA columns when determining the result dtypes. To retain the old behavior, exclude the relevant entries before the concat operation.\n",
      "  shameless_uk_df = pd.concat([shameless_uk_df, pd.DataFrame([new_row])], ignore_index=True)\n"
     ]
    }
   ],
   "source": [
    "# Add data about the 1st season\n",
    "add_episode(1, 1, \"Meet the Gallaghers\", \"2004-01-13\", 7.6, 458)\n",
    "add_episode(1, 2, \"We're Going to The Moon\", \"2004-01-20\", 7.6, 304)\n",
    "add_episode(1, 3, \"We're Getting Married\", \"2004-01-27\", 7.8, 281)\n",
    "add_episode(1, 4, \"Abduction\", \"2004-02-03\", 7.9, 267)\n",
    "add_episode(1, 5, \"Affairs\", \"2004-02-10\", 7.8, 249)\n",
    "add_episode(1, 6, \"Monica Comes Home\", \"2004-02-17\", 7.9, 248)\n",
    "add_episode(1, 7, \"Dead\", \"2004-02-24\", 10.0, 263)"
   ]
  },
  {
   "cell_type": "code",
   "execution_count": 3,
   "id": "55927dff",
   "metadata": {},
   "outputs": [],
   "source": [
    "# Add data about the 2nd season\n",
    "add_episode(2, 0, \"Christmas in Chatsworth\", \"2004-12-23\", 8.1, 293)\n",
    "add_episode(2, 1, \"Grandad\", \"2005-01-04\", 7.8, 205)\n",
    "add_episode(2, 2, \"Eric\", \"2005-01-11\", 7.7, 193)\n",
    "add_episode(2, 3, \"The Garden Competition\", \"2005-01-18\", 7.8, 192)\n",
    "add_episode(2, 4, \"The Big Day\", \"2005-01-25\", 8.1, 208)\n",
    "add_episode(2, 5, \"Crooks and Robbers\", \"2005-02-01\", 8.1, 177)\n",
    "add_episode(2, 6, \"Welcome to the Family\", \"2005-02-08\", 8.1, 167)\n",
    "add_episode(2, 7, \"Joey Dawson?\", \"2005-02-15\", 7.8, 156)\n",
    "add_episode(2, 8, \"Against The Odds\", \"2005-02-22\", 7.7, 149)\n",
    "add_episode(2, 9, \"Sister, Sister\", \"2005-03-01\", 7.8, 155)\n",
    "add_episode(2, 10, \"True Love\", \"2005-03-08\", 8.0, 181)"
   ]
  },
  {
   "cell_type": "code",
   "execution_count": 4,
   "id": "3e3e50a9",
   "metadata": {},
   "outputs": [],
   "source": [
    "# Add data about the 3rd season\n",
    "add_episode(3, 1, \"Liamday\", \"2006-01-03\", 7.8, 158)\n",
    "add_episode(3, 2, \"Dark Friends\", \"2006-01-10\", 7.7, 138)\n",
    "add_episode(3, 3, \"Baby\", \"2006-01-17\", 7.8, 131)\n",
    "add_episode(3, 4, \"Benefit Fraud\", \"2006-01-24\", 7.5, 127)\n",
    "add_episode(3, 5, \"Old Flame\", \"2006-01-31\", 7.8, 134)\n",
    "add_episode(3, 6, \"In with the Maguire's\", \"2006-02-08\", 8.1, 167)\n",
    "add_episode(3, 7, \"Act Your Age\", \"2006-02-14\", 7.6, 132)\n",
    "add_episode(3, 8, \"The Wedding\", \"2006-02-21\", 8.0, 130)"
   ]
  },
  {
   "cell_type": "code",
   "execution_count": 5,
   "id": "16234434",
   "metadata": {},
   "outputs": [],
   "source": [
    "# Add data about the 4th season\n",
    "add_episode(4, 1, \"New Beginnings\", \"2007-01-09\", 7.4, 129)\n",
    "add_episode(4, 2, \"New Romances\", \"2007-01-16\", 7.3, 128)\n",
    "add_episode(4, 3, \"You Decide\", \"2007-01-23\", 7.4, 121)\n",
    "add_episode(4, 4, \"The Runaway\", \"2007-01-30\", 7.6, 127)\n",
    "add_episode(4, 5, \"Boys, Boys, Boys\", \"2007-02-06\", 7.7, 125)\n",
    "add_episode(4, 6, \"Dangerous Situation\", \"2007-02-13\", 7.7, 127)\n",
    "add_episode(4, 7, \"Terrorist Target\", \"2007-02-20\", 7.7, 128)\n",
    "add_episode(4, 8, \"Revelations\", \"2007-02-27\", 7.7, 130)"
   ]
  },
  {
   "cell_type": "code",
   "execution_count": 6,
   "id": "0135e11b",
   "metadata": {},
   "outputs": [],
   "source": [
    "# Add data about the 5th season\n",
    "add_episode(5, 1, \"The Countdown\", \"2008-01-01\", 7.9, 123)\n",
    "add_episode(5, 2, \"Other Paddy\", \"2008-01-08\", 7.4, 115)\n",
    "add_episode(5, 3, \"Happy Birthday, Ma Maguire\", \"2008-01-15\", 7.5, 104)\n",
    "add_episode(5, 4, \"Frank's Big Win\", \"2008-01-22\", 7.8, 107)\n",
    "add_episode(5, 5, \"Beach Party\", \"2008-01-29\", 7.8, 106)\n",
    "add_episode(5, 6, \"Nowhere To Go\", \"2008-02-05\", 7.8, 105)\n",
    "add_episode(5, 7, \"Brothers and Boyfriends\", \"2008-02-12\", 7.9, 105)\n",
    "add_episode(5, 8, \"I Love Frank\", \"2008-02-19\", 7.7, 106)\n",
    "add_episode(5, 9, \"Absent Parents\", \"2008-02-26\", 7.5, 99)\n",
    "add_episode(5, 10, \"Old Friends, New Enemies\", \"2008-03-04\", 7.3, 99)\n",
    "add_episode(5, 11, \"Twin\", \"2008-03-11\", 8.1, 104)\n",
    "add_episode(5, 12, \"Family at War\", \"2008-03-18\", 7.5, 93)\n",
    "add_episode(5, 13, \"Date A Death\", \"2008-03-25\", 7.7, 93)\n",
    "add_episode(5, 14, \"The Ties That Blind Us\", \"2008-04-01\", 7.5, 93)\n",
    "add_episode(5, 15, \"Assault\", \"2008-04-08\", 8.0, 97)\n",
    "add_episode(5, 16, \"The Ninth Time Around\", \"2008-04-15\", 7.9, 102)"
   ]
  },
  {
   "cell_type": "code",
   "execution_count": 7,
   "id": "e2f90080",
   "metadata": {},
   "outputs": [],
   "source": [
    "# Add data about the 6th season\n",
    "add_episode(6, 1, \"Remember Me\", \"2009-01-27\", 8.0, 111)\n",
    "add_episode(6, 2, \"Trouble In Paradise\", \"2009-02-03\", 7.8, 91)\n",
    "add_episode(6, 3, \"All Rise\", \"2009-02-10\", 7.6, 89)\n",
    "add_episode(6, 4, \"Loving Wife\", \"2009-02-17\", 7.3, 88)\n",
    "add_episode(6, 5, \"Miscarriage of Marriage\", \"2009-02-24\", 7.5, 88)\n",
    "add_episode(6, 6, \"Breaking Point\", \"2009-03-03\", 7.4, 94)\n",
    "add_episode(6, 7, \"Always Leave Them Wanting More\", \"2009-03-10\", 7.4, 92)\n",
    "add_episode(6, 8, \"Damaged\", \"2009-03-17\", 7.5, 92)\n",
    "add_episode(6, 9, \"The Darkest Hour\", \"2009-03-24\", 7.3, 88)\n",
    "add_episode(6, 10, \"To The Future\", \"2009-03-31\", 7.3, 92)\n",
    "add_episode(6, 11, \"Powerless\", \"2009-04-07\", 7.4, 88)\n",
    "add_episode(6, 12, \"Cold Turkey\", \"2009-04-14\", 7.6, 91)\n",
    "add_episode(6, 13, \"What About Me?\", \"2009-04-21\", 7.4, 85)\n",
    "add_episode(6, 14, \"Haunted by the Past\", \"2009-04-28\", 7.5, 82)\n",
    "add_episode(6, 15, \"Confession\", \"2009-05-05\", 8.2, 94)\n",
    "add_episode(6, 16, \"It's Over\", \"2009-05-12\", 8.3, 117)"
   ]
  },
  {
   "cell_type": "code",
   "execution_count": 8,
   "id": "2d1367c0",
   "metadata": {},
   "outputs": [],
   "source": [
    "# Add data about the 7th season\n",
    "add_episode(7, 1, \"Perfectly Frank\", \"2010-01-26\", 7.5, 87)\n",
    "add_episode(7, 2, \"Gunshot\", \"2010-02-02\", 7.0, 79)\n",
    "add_episode(7, 3, \"Out of Control\", \"2010-02-09\", 7.3, 78)\n",
    "add_episode(7, 4, \"Toyboy\", \"2010-02-16\", 7.1, 78)\n",
    "add_episode(7, 5, \"The Things You Do For Love\", \"2010-02-23\", 7.4, 81)\n",
    "add_episode(7, 6, \"From Chatsworth To Cuba\", \"2010-03-02\", 6.9, 75)\n",
    "add_episode(7, 7, \"Reunited\", \"2010-03-09\", 7.1, 73)\n",
    "add_episode(7, 8, \"Marry Me\", \"2010-03-16\", 7.0, 76)\n",
    "add_episode(7, 9, \"The Wild Tales\", \"2010-03-23\", 7.3, 76)\n",
    "add_episode(7, 10, \"Great Dangers\", \"2010-03-30\", 7.4, 78)\n",
    "add_episode(7, 11, \"Fallen Heroes\", \"2010-04-06\", 7.5, 78)\n",
    "add_episode(7, 12, \"Boxer\", \"2010-04-13\", 7.5, 77)\n",
    "add_episode(7, 13, \"Keep It in the Family\", \"2010-04-20\", 7.2, 77)\n",
    "add_episode(7, 14, \"Secret Relations\", \"2010-04-27\", 7.2, 76)\n",
    "add_episode(7, 15, \"The End of The Affair\", \"2010-05-04\", 7.3, 77)\n",
    "add_episode(7, 16, \"Gang Wars\", \"2010-05-11\", 7.9, 80)"
   ]
  },
  {
   "cell_type": "code",
   "execution_count": 9,
   "id": "68227cda",
   "metadata": {},
   "outputs": [],
   "source": [
    "# Add data about the 8th season\n",
    "add_episode(8, 1, \"The Night Before\", \"2011-01-10\", 7.2, 84)\n",
    "add_episode(8, 2, \"Missing\", \"2011-01-11\", 7.0, 78)\n",
    "add_episode(8, 3, \"Where's Frank?\", \"2011-01-12\", 7.1, 76)\n",
    "add_episode(8, 4, \"Back Home\", \"2011-01-13\", 6.6, 77)\n",
    "add_episode(8, 5, \"Wedding of Disaster\", \"2011-01-14\", 7.4, 76)\n",
    "add_episode(8, 6, \"Gangster Gallagher\", \"2011-01-18\", 7.0, 76)\n",
    "add_episode(8, 7, \"Kidnap and Ransom\", \"2011-01-25\", 6.9, 72)\n",
    "add_episode(8, 8, \"Together in Heaven\", \"2011-02-01\", 6.9, 75)\n",
    "add_episode(8, 9, \"Maguire Meltdown\", \"2011-02-08\", 6.7, 73)\n",
    "add_episode(8, 10, \"Sickness and Health\", \"2011-02-15\", 7.0, 71)\n",
    "add_episode(8, 11, \"Takeover\", \"2011-02-22\", 7.0, 69)\n",
    "add_episode(8, 12, \"Sibling Rivalry\", \"2011-03-01\", 6.7, 76)\n",
    "add_episode(8, 13, \"Beginnings and Ends\", \"2011-03-08\", 6.9, 72)\n",
    "add_episode(8, 14, \"The Not-So Deceased\", \"2011-08-30\", 6.9, 70)\n",
    "add_episode(8, 15, \"My Name Is Avril\", \"2011-09-06\", 6.3, 71)\n",
    "add_episode(8, 16, \"Frank Gallagher: Sent By God\", \"2011-09-13\", 6.5, 74)\n",
    "add_episode(8, 17, \"Comebacks\", \"2011-09-20\", 7.0, 69)\n",
    "add_episode(8, 18, \"Frank in the Frame\", \"2011-09-27\", 7.7, 82)\n",
    "add_episode(8, 19, \"Moving Back\", \"2011-10-04\", 6.7, 69)\n",
    "add_episode(8, 20, \"Career Criminal\", \"2011-10-11\", 7.1, 70)\n",
    "add_episode(8, 21, \"The Maguire Motto\", \"2011-10-18\", 7.0, 67)\n",
    "add_episode(8, 22, \"PC Gallagher\", \"2011-10-25\", 7.0, 64)"
   ]
  },
  {
   "cell_type": "code",
   "execution_count": 10,
   "id": "c11786c7",
   "metadata": {},
   "outputs": [],
   "source": [
    "# Add data about the 9th season\n",
    "add_episode(9, 1, \"The End of an Era\", \"2012-01-09\", 7.0, 77)\n",
    "add_episode(9, 2, \"Save Chatsworth\", \"2012-01-10\", 6.8, 72)\n",
    "add_episode(9, 3, \"Open To All\", \"2012-01-17\", 7.0, 68)\n",
    "add_episode(9, 4, \"Vendetta\", \"2012-01-24\", 7.2, 70)\n",
    "add_episode(9, 5, \"Cop Killer\", \"2012-01-31\", 7.2, 67)\n",
    "add_episode(9, 6, \"Last Man Standing\", \"2012-02-07\", 6.8, 73)\n",
    "add_episode(9, 7, \"All Fall Down\", \"2012-02-14\", 6.6, 67)\n",
    "add_episode(9, 8, \"Blackout\", \"2012-02-21\", 6.7, 65)\n",
    "add_episode(9, 9, \"Decision Time\", \"2012-02-28\", 7.0, 67)\n",
    "add_episode(9, 10, \"Million Dollar Maguire\", \"2012-03-06\", 7.4, 69)\n",
    "add_episode(9, 11, \"Rescue Me\", \"2012-03-13\", 7.6, 69)"
   ]
  },
  {
   "cell_type": "code",
   "execution_count": 11,
   "id": "02b80d8d",
   "metadata": {},
   "outputs": [],
   "source": [
    "# Add data about the 10th season\n",
    "add_episode(10, 1, \"The Working Man\", \"2012-09-12\", 7.1, 68)\n",
    "add_episode(10, 2, \"The World of Burger\", \"2012-09-13\", 6.8, 67)\n",
    "add_episode(10, 3, \"The Brazilian Effect\", \"2012-09-19\", 7.0, 63)\n",
    "add_episode(10, 4, \"Who's The Mummy?\", \"2012-09-25\", 6.8, 63)\n",
    "add_episode(10, 5, \"The Truth Will Out\", \"2012-10-03\", 7.0, 63)\n",
    "add_episode(10, 6, \"Secrets and Wives\", \"2012-10-10\", 6.7, 66)\n",
    "add_episode(10, 7, \"Business As Usual\", \"2012-10-17\", 6.7, 68)\n",
    "add_episode(10, 8, \"What Are Friends For?\", \"2012-10-24\", 7.2, 67)\n",
    "add_episode(10, 9, \"Great Rivalry\", \"2012-10-31\", 7.2, 64)\n",
    "add_episode(10, 10, \"One Year On\", \"2012-11-01\", 7.8, 63)"
   ]
  },
  {
   "cell_type": "code",
   "execution_count": 12,
   "id": "8ff4112e",
   "metadata": {},
   "outputs": [],
   "source": [
    "# Add data about the 11th season\n",
    "add_episode(11, 1, \"The Golden Empire\", \"2013-02-26\", 7.0, 69)\n",
    "add_episode(11, 2, \"An Inspector Calls\", \"2013-03-05\", 7.4, 68)\n",
    "add_episode(11, 3, \"Money in Mind\", \"2013-03-12\", 6.7, 59)\n",
    "add_episode(11, 4, \"No-Ones Perfect\", \"2013-03-19\", 6.8, 65)\n",
    "add_episode(11, 5, \"Risky Business\", \"2013-03-26\", 6.5, 64)\n",
    "add_episode(11, 6, \"Death and Erasures\", \"2013-04-02\", 7.1, 61)\n",
    "add_episode(11, 7, \"Crime and Punishment\", \"2013-04-09\", 7.1, 61)\n",
    "add_episode(11, 8, \"Grandaddy Gallagher\", \"2013-04-16\", 7.9, 63)\n",
    "add_episode(11, 9, \"Domesticated Specialist\", \"2013-04-23\", 6.7, 59)\n",
    "add_episode(11, 10, \"Crossing the Line\", \"2013-04-30\", 6.9, 60)\n",
    "add_episode(11, 11, \"The P Factor\", \"2013-05-07\", 6.2, 64)\n",
    "add_episode(11, 12, \"Early Retirement\", \"2013-05-14\", 6.7, 58)\n",
    "add_episode(11, 13, \"Kiss, Kiss, Bang, Bang\", \"2013-05-21\", 6.5, 68)\n",
    "add_episode(11, 14, \"End of the Line\", \"2013-05-28\", 8.1, 92)"
   ]
  },
  {
   "cell_type": "code",
   "execution_count": 13,
   "id": "9ec3479f",
   "metadata": {},
   "outputs": [
    {
     "name": "stdout",
     "output_type": "stream",
     "text": [
      "    Season Episode                    Title ReleaseDate  Rating Votes\n",
      "0        1       1      Meet the Gallaghers  2004-01-13     7.6   458\n",
      "1        1       2  We're Going to The Moon  2004-01-20     7.6   304\n",
      "2        1       3    We're Getting Married  2004-01-27     7.8   281\n",
      "3        1       4                Abduction  2004-02-03     7.9   267\n",
      "4        1       5                  Affairs  2004-02-10     7.8   249\n",
      "..     ...     ...                      ...         ...     ...   ...\n",
      "134     11      10        Crossing the Line  2013-04-30     6.9    60\n",
      "135     11      11             The P Factor  2013-05-07     6.2    64\n",
      "136     11      12         Early Retirement  2013-05-14     6.7    58\n",
      "137     11      13   Kiss, Kiss, Bang, Bang  2013-05-21     6.5    68\n",
      "138     11      14          End of the Line  2013-05-28     8.1    92\n",
      "\n",
      "[139 rows x 6 columns]\n"
     ]
    }
   ],
   "source": [
    "print(shameless_uk_df)"
   ]
  }
 ],
 "metadata": {
  "kernelspec": {
   "display_name": "Python 3",
   "language": "python",
   "name": "python3"
  },
  "language_info": {
   "codemirror_mode": {
    "name": "ipython",
    "version": 3
   },
   "file_extension": ".py",
   "mimetype": "text/x-python",
   "name": "python",
   "nbconvert_exporter": "python",
   "pygments_lexer": "ipython3",
   "version": "3.10.11"
  }
 },
 "nbformat": 4,
 "nbformat_minor": 5
}
